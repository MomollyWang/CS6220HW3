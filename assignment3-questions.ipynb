{
  "nbformat": 4,
  "nbformat_minor": 0,
  "metadata": {
    "colab": {
      "provenance": []
    },
    "kernelspec": {
      "name": "python3",
      "display_name": "Python 3"
    },
    "language_info": {
      "name": "python"
    }
  },
  "cells": [
    {
      "cell_type": "code",
      "source": [
        "! pip install -U scikit-learn"
      ],
      "metadata": {
        "colab": {
          "base_uri": "https://localhost:8080/"
        },
        "id": "YQVyXTAHD8dt",
        "outputId": "3769208a-f3b3-4595-a7ca-d4ad47c21e42"
      },
      "execution_count": 1,
      "outputs": [
        {
          "output_type": "stream",
          "name": "stdout",
          "text": [
            "Looking in indexes: https://pypi.org/simple, https://us-python.pkg.dev/colab-wheels/public/simple/\n",
            "Requirement already satisfied: scikit-learn in /usr/local/lib/python3.8/dist-packages (1.0.2)\n",
            "Collecting scikit-learn\n",
            "  Downloading scikit_learn-1.2.1-cp38-cp38-manylinux_2_17_x86_64.manylinux2014_x86_64.whl (9.8 MB)\n",
            "\u001b[2K     \u001b[90m━━━━━━━━━━━━━━━━━━━━━━━━━━━━━━━━━━━━━━━━\u001b[0m \u001b[32m9.8/9.8 MB\u001b[0m \u001b[31m35.1 MB/s\u001b[0m eta \u001b[36m0:00:00\u001b[0m\n",
            "\u001b[?25hRequirement already satisfied: scipy>=1.3.2 in /usr/local/lib/python3.8/dist-packages (from scikit-learn) (1.7.3)\n",
            "Requirement already satisfied: joblib>=1.1.1 in /usr/local/lib/python3.8/dist-packages (from scikit-learn) (1.2.0)\n",
            "Requirement already satisfied: threadpoolctl>=2.0.0 in /usr/local/lib/python3.8/dist-packages (from scikit-learn) (3.1.0)\n",
            "Requirement already satisfied: numpy>=1.17.3 in /usr/local/lib/python3.8/dist-packages (from scikit-learn) (1.21.6)\n",
            "Installing collected packages: scikit-learn\n",
            "  Attempting uninstall: scikit-learn\n",
            "    Found existing installation: scikit-learn 1.0.2\n",
            "    Uninstalling scikit-learn-1.0.2:\n",
            "      Successfully uninstalled scikit-learn-1.0.2\n",
            "Successfully installed scikit-learn-1.2.1\n"
          ]
        }
      ]
    },
    {
      "cell_type": "code",
      "source": [
        "import pandas as pd\n",
        "from matplotlib import pyplot as plt\n",
        "from sklearn.decomposition import PCA\n",
        "from sklearn.model_selection import train_test_split\n",
        "from sklearn.preprocessing import StandardScaler"
      ],
      "metadata": {
        "id": "U6Wft-4cAK08"
      },
      "execution_count": 2,
      "outputs": []
    },
    {
      "cell_type": "markdown",
      "source": [
        "Load wine dataset from sklearn\n",
        "\n"
      ],
      "metadata": {
        "id": "N7fMCpqX8O4Z"
      }
    },
    {
      "cell_type": "code",
      "source": [
        "from sklearn.datasets import load_wine"
      ],
      "metadata": {
        "id": "APJThL-h8Mgl"
      },
      "execution_count": 3,
      "outputs": []
    },
    {
      "cell_type": "code",
      "source": [
        "X, y = load_wine(return_X_y=True, as_frame=True)\n",
        "scaler = StandardScaler().set_output(transform=\"pandas\")\n",
        "\n",
        "X_train, X_test, y_train, y_test = train_test_split(\n",
        "    X, y, test_size=0.30, random_state=42\n",
        ")\n",
        "scaled_X_train = scaler.fit_transform(X_train)"
      ],
      "metadata": {
        "id": "6IW8UXLD-plN"
      },
      "execution_count": 4,
      "outputs": []
    },
    {
      "cell_type": "markdown",
      "source": [
        "rescale on a PCA dimensional reduction"
      ],
      "metadata": {
        "id": "yC4HLLfiE1C9"
      }
    },
    {
      "cell_type": "code",
      "source": [
        "pca = PCA(n_components=2).fit(X_train)\n",
        "scaled_pca = PCA(n_components=2).fit(scaled_X_train)\n",
        "X_train_std_transformed = scaled_pca.transform(scaled_X_train)\n"
      ],
      "metadata": {
        "id": "abWtRLBXE6WF"
      },
      "execution_count": 32,
      "outputs": []
    },
    {
      "cell_type": "code",
      "source": [
        "fig, (ax2) = plt.subplots(nrows=1, ncols=1, figsize=(5, 5))\n",
        "\n",
        "target_classes = range(0, 3)\n",
        "colors = (\"blue\", \"red\", \"green\")\n",
        "markers = (\"^\", \"s\", \"o\")\n",
        "\n",
        "for target_class, color, marker in zip(target_classes, colors, markers):\n",
        "\n",
        "    ax2.scatter(\n",
        "        x=X_train_std_transformed[y_train == target_class, 0],\n",
        "        y=X_train_std_transformed[y_train == target_class, 1],\n",
        "        color=color,\n",
        "        label=f\"class {target_class}\",\n",
        "        alpha=0.5,\n",
        "        marker=marker,\n",
        "    )\n",
        "\n",
        "ax2.set_title(\"Standardized training dataset after PCA\")\n",
        "\n",
        "ax2.set_xlabel(\"1st principal component\")\n",
        "ax2.set_ylabel(\"2nd principal component\")\n",
        "ax2.legend(loc=\"upper right\")\n",
        "ax2.grid()\n",
        "\n",
        "_ = plt.tight_layout()"
      ],
      "metadata": {
        "colab": {
          "base_uri": "https://localhost:8080/",
          "height": 369
        },
        "id": "RR6B6T93HmvU",
        "outputId": "34db6e13-e319-4a3d-e626-7b0050d68e9a"
      },
      "execution_count": 31,
      "outputs": [
        {
          "output_type": "display_data",
          "data": {
            "text/plain": [
              "<Figure size 360x360 with 1 Axes>"
            ],
            "image/png": "[encoded data removed]"
          },
          "metadata": {
            "needs_background": "light"
          }
        }
      ]
    }
  ]
}